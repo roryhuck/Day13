{
 "cells": [
  {
   "cell_type": "markdown",
   "id": "74561943-756b-42cd-b493-cdf3b67e7c3d",
   "metadata": {},
   "source": [
    "## Introduction to Data Science\n",
    "\n",
    "#### University of Redlands - DATA 101\n",
    "#### Prof: Joanna Bieri [joanna_bieri@redlands.edu](mailto:joanna_bieri@redlands.edu)\n",
    "#### [Class Website: data101.joannabieri.com](https://joannabieri.com/data101.html)\n",
    "\n",
    "---------------------------------------\n",
    "# Homework Day 13\n",
    "---------------------------------------\n",
    "\n",
    "GOALS:\n",
    "\n",
    "1. Explore and respond to ideas around data ethics\n",
    "2. Recreate other peoples work to more honestly reflect data.\n",
    "\n",
    "----------------------------------------------------------\n",
    "\n",
    "This homework has **4 questions** and **1 exercise**"
   ]
  },
  {
   "cell_type": "markdown",
   "id": "d0c422e3-32b1-452f-89a8-2586784d3957",
   "metadata": {},
   "source": [
    "## Important Information\n",
    "\n",
    "- Email: [joanna_bieri@redlands.edu](mailto:joanna_bieri@redlands.edu)\n",
    "- Office Hours: Duke 209 <a href=\"https://joannabieri.com/schedule.html\"> Click Here for Joanna's Schedule</a>\n",
    "\n",
    "## Day 13 Assignment - same drill.\n",
    "\n",
    "1. Make sure you can **Fork** and **Clone** the Day13 repo from [Redlands-DATA101](https://github.com/Redlands-DATA101)\n",
    "2. Open the file Day13-HW.ipynb and start doing the problems.\n",
    "    * You can do these problems as you follow along with the lecture notes and video.\n",
    "3. Get as far as you can before class.\n",
    "4. Submit what you have so far **Commit** and **Push** to Git.\n",
    "5. Take the daily check in quiz on **Canvas**.\n",
    "7. Come to class with lots of questions!"
   ]
  },
  {
   "cell_type": "code",
   "execution_count": 1,
   "id": "d0153569-41e3-4696-9b34-83ba90a0b5cf",
   "metadata": {},
   "outputs": [],
   "source": [
    "import numpy as np\n",
    "import pandas as pd\n",
    "\n",
    "import matplotlib.pyplot as plt\n",
    "import plotly.express as px\n",
    "from plotly.subplots import make_subplots\n",
    "import plotly.io as pio\n",
    "pio.renderers.defaule = 'colab'\n",
    "\n",
    "from itables import show\n",
    "\n",
    "# This stops a few warning messages from showing\n",
    "pd.options.mode.chained_assignment = None \n",
    "import warnings\n",
    "warnings.simplefilter(action='ignore', category=FutureWarning)"
   ]
  },
  {
   "cell_type": "markdown",
   "id": "b75d6a18-2959-4802-bb19-24a635fa9aa9",
   "metadata": {},
   "source": [
    "## Data Science Ethics\n",
    "\n",
    "## Misrepresentation\n",
    "\n",
    "Misrepresentation can happen intentionally or unintentionally. It can arise because of lack of knowledge of competence in data science. It is important to be aware of misrepresentation and be able to spot it a mile away in your work and in other peoples work!\n",
    "\n",
    "What is wrong with this picture? How would you correct it?\n",
    "\n",
    "\n",
    "![Confirmed Covid Cases](images/ga-dph-declining-bars.jpg)\n",
    "\n",
    "- Overall this looks like the heights of bars are going down.\n",
    "- Dates are on the x-axis.\n",
    "- Are covid cases going down over time?\n",
    "\n",
    "**Q1** Write in your own words what you see that is wrong with this graph. What is the story it is telling vs the real story in the data?\n",
    "\n",
    "\n",
    "**Q2** Is it okay to misrepresent your data if you are getting people to \"do the right thing\"? For example, more exercise is good for you, right? Was it so bad to misrepresent the results of the cancer and exercise studies?\n"
   ]
  },
  {
   "cell_type": "markdown",
   "id": "c313f413-e9c5-4a88-927f-24e251bc622a",
   "metadata": {},
   "source": [
    "## Data Privacy\n",
    "\n",
    "The question of data privacy is complicated and rests on the idea of what amount of expected privacy are we entitled to when we put our data online.\n",
    "\n",
    "## Data Privacy -  Case study: \n",
    "\n",
    "**Q3** When analyzing data that is publicly shared, how can you make sure that you are not violating a persons reasonable expectation of privacy? What do you think the rules should be here? How would you want your data treated?\n",
    "\n",
    "**Q4** Does the answer to the question \"Should I scrape this data\" vary based on what the data is about? Give two examples where the answer might be different.\n",
    "\n"
   ]
  },
  {
   "cell_type": "markdown",
   "id": "6252c36c-2895-4e10-9918-7ab674192598",
   "metadata": {},
   "source": [
    "## Exercise 1\n",
    "\n",
    "Consider the following visualization that was shared on Twitter:\n",
    "\n",
    "[Visualization on Twitter](https://twitter.com/JonBoeckenstedt/status/1291602888376999936)\n",
    "\n",
    "You are going to construct the data by reading (approximate is okay) the numbers from the picture.\n",
    "\n",
    "1. What is most misleading about this graph - essay answer\n",
    "\n",
    "2.  Create a data frame that can be used to re-construct this visualization. You may need to guess some of the numbers, that's ok. You should first think about how many rows and columns you'll need and what you want to call your variables.\n",
    "\n",
    "\n",
    "Here is some code to get you started:"
   ]
  },
  {
   "cell_type": "code",
   "execution_count": 2,
   "id": "7d4bc2c6-8218-4c4d-9def-d9270ea74233",
   "metadata": {},
   "outputs": [
    {
     "data": {
      "text/html": [
       "<div>\n",
       "<style scoped>\n",
       "    .dataframe tbody tr th:only-of-type {\n",
       "        vertical-align: middle;\n",
       "    }\n",
       "\n",
       "    .dataframe tbody tr th {\n",
       "        vertical-align: top;\n",
       "    }\n",
       "\n",
       "    .dataframe thead th {\n",
       "        text-align: right;\n",
       "    }\n",
       "</style>\n",
       "<table border=\"1\" class=\"dataframe\">\n",
       "  <thead>\n",
       "    <tr style=\"text-align: right;\">\n",
       "      <th></th>\n",
       "      <th>date</th>\n",
       "      <th>count_mask</th>\n",
       "      <th>count_nomask</th>\n",
       "    </tr>\n",
       "  </thead>\n",
       "  <tbody>\n",
       "  </tbody>\n",
       "</table>\n",
       "</div>"
      ],
      "text/plain": [
       "Empty DataFrame\n",
       "Columns: [date, count_mask, count_nomask]\n",
       "Index: []"
      ]
     },
     "execution_count": 2,
     "metadata": {},
     "output_type": "execute_result"
    }
   ],
   "source": [
    "date = []\n",
    "count_mask = []\n",
    "count_nomask = []\n",
    "\n",
    "DF = pd.DataFrame()\n",
    "DF['date']=date\n",
    "DF['count_mask']=count_mask\n",
    "DF['count_nomask']=count_nomask\n",
    "DF"
   ]
  },
  {
   "cell_type": "markdown",
   "id": "1cf33f04-f1a2-42b5-b60d-03745563e1db",
   "metadata": {},
   "source": [
    "3. Make a visualization of this data that is more accurate. Your visualization should more honestly tell the story.\n",
    "\n",
    "               fig = pd.line(DF,x= ,y= )\n",
    "\n",
    "   \n",
    "5. What message is more clear in your visualization, compared to the one posted on twitter?\n",
    "6. What, if any, useful information do these data and your visualization tell us about mask wearing and COVID? It’ll be difficult to set aside what you already know about mask wearing, but you should try to focus only on what this visualization tells. Feel free to also comment on whether that lines up with what you know about mask wearing.\n",
    "7. Could there be confounding data? What can you actually say about the data as given?"
   ]
  },
  {
   "cell_type": "code",
   "execution_count": null,
   "id": "54d2b899-307c-4eff-b046-26b9299c3e00",
   "metadata": {},
   "outputs": [],
   "source": []
  }
 ],
 "metadata": {
  "kernelspec": {
   "display_name": "Python 3 (ipykernel)",
   "language": "python",
   "name": "python3"
  },
  "language_info": {
   "codemirror_mode": {
    "name": "ipython",
    "version": 3
   },
   "file_extension": ".py",
   "mimetype": "text/x-python",
   "name": "python",
   "nbconvert_exporter": "python",
   "pygments_lexer": "ipython3",
   "version": "3.12.5"
  }
 },
 "nbformat": 4,
 "nbformat_minor": 5
}
